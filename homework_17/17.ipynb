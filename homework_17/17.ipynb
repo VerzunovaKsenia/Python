{
 "cells": [
  {
   "cell_type": "markdown",
   "id": "bea3464b",
   "metadata": {},
   "source": [
    "# 01"
   ]
  },
  {
   "cell_type": "code",
   "execution_count": 2,
   "id": "66e0b500",
   "metadata": {},
   "outputs": [],
   "source": [
    "f = open('numbers.txt','r')\n",
    "summ = 0\n",
    "for elem in f:\n",
    "    for smbl in elem:\n",
    "        if smbl.isnumeric():\n",
    "            summ += int(smbl)\n",
    "f.close()\n",
    "\n",
    "wr = open('answer.txt','w')\n",
    "wr.write(str(summ))\n",
    "wr.close()\n"
   ]
  },
  {
   "cell_type": "markdown",
   "id": "15407349",
   "metadata": {},
   "source": [
    "# 02 Дзен Пайтона"
   ]
  },
  {
   "cell_type": "code",
   "execution_count": 5,
   "id": "e5cc3e46",
   "metadata": {},
   "outputs": [],
   "source": [
    "f = open('zen.txt','r')\n",
    "wr = open('reverse.txt','w')\n",
    "strings = []\n",
    "for elem in f:\n",
    "    strings.append(elem)\n",
    "for i in range(len(strings)):\n",
    "    wr.write(strings[-i-1])\n",
    "f.close()\n",
    "wr.close()\n"
   ]
  },
  {
   "cell_type": "markdown",
   "id": "026b1e59",
   "metadata": {},
   "source": [
    "# 03 Дзен Пайтона 2"
   ]
  },
  {
   "cell_type": "code",
   "execution_count": 1,
   "id": "ce8cbb9d",
   "metadata": {},
   "outputs": [
    {
     "name": "stdout",
     "output_type": "stream",
     "text": [
      "Число букв: 652\n",
      "Число слов: 137\n",
      "Число строк: 20\n"
     ]
    }
   ],
   "source": [
    "lst = ['a','b','c','d','e','f','g','h','i','j','k','l','m','n','o','p','q','r','s','t','u','v','w','x','y','z','A','B','C','D','E','F','G','H','I','J','K','L','M','N','O','P','Q','R','S','T','U','V','W','X','Y','Z']\n",
    "num_let = 0\n",
    "num_word = 0\n",
    "num_str = 0\n",
    "with open(\"zen.txt\", \"r\") as f:\n",
    "    my_lst = f.read()\n",
    "    num_let = len([i for i in my_lst if i in lst])\n",
    "    num_word = len(my_lst.split())\n",
    "    num_str = len(my_lst.split('\\n'))\n",
    "print('Число букв:', num_let)\n",
    "print('Число слов:', num_word)\n",
    "print('Число строк:', num_str)\n"
   ]
  },
  {
   "cell_type": "markdown",
   "id": "ce8e1893",
   "metadata": {},
   "source": [
    "# 04 Файлы и папки"
   ]
  },
  {
   "cell_type": "code",
   "execution_count": 1,
   "id": "1900b375",
   "metadata": {},
   "outputs": [
    {
     "name": "stdout",
     "output_type": "stream",
     "text": [
      "Размер каталога (в Кб):  0.169921875\n",
      "Количество подкаталогов:  7\n",
      "Количество файлов:  1\n"
     ]
    }
   ],
   "source": [
    "import os\n",
    " \n",
    "path = r'C:\\Users'\n",
    "total_size = 0\n",
    "path, dirs, files = next(os.walk(path))\n",
    "for f in files:\n",
    "    fp = os.path.join(path, f)\n",
    "    total_size += os.path.getsize(fp) \n",
    "print('Размер каталога (в Кб): ', total_size / 1024)\n",
    "print('Количество подкаталогов: ', len(dirs))\n",
    "print('Количество файлов: ', len(files))\n"
   ]
  },
  {
   "cell_type": "markdown",
   "id": "37bf5e28",
   "metadata": {},
   "source": [
    "# 05 Сохранение"
   ]
  },
  {
   "cell_type": "code",
   "execution_count": 26,
   "id": "8470568b",
   "metadata": {},
   "outputs": [
    {
     "name": "stdout",
     "output_type": "stream",
     "text": [
      "Введите строку: sdad\n",
      "Куда хотите сохранить документ? Введите последовательность папок (через пробел): Users Ксения Python Python homework_17\n",
      "Введите имя файла: document\n",
      "True\n",
      "Вы действительно хотите перезаписать файл?да\n",
      "Файл успешно перезаписан!\n"
     ]
    }
   ],
   "source": [
    "import os\n",
    "\n",
    "text = str(input('Введите строку: '))\n",
    "path = str(input('Куда хотите сохранить документ? Введите последовательность папок (через пробел): '))\n",
    "name = str(input('Введите имя файла: '))\n",
    "new_path = str(\"C:\\\\\" + path.replace(\" \", \"\\\\\") + \"\\\\\" + name + \".txt\")\n",
    "check_file = os.path.exists(new_path)\n",
    "print(check_file)\n",
    "if check_file:\n",
    "    answer = input('Вы действительно хотите перезаписать файл?')\n",
    "    if answer == 'да':\n",
    "        name = open(new_path, \"w\")\n",
    "        name.write(text)\n",
    "        name.close()\n",
    "        print('Файл успешно перезаписан!')\n",
    "else:\n",
    "        name = open(new_path, \"w\")\n",
    "        name.write(text)\n",
    "        name.close()\n",
    "        print('Файл успешно сохранён!')\n",
    "#Users Ксения Python Python homework_17"
   ]
  },
  {
   "cell_type": "markdown",
   "id": "f90ad6d4",
   "metadata": {},
   "source": [
    "# 06 Паранойя"
   ]
  },
  {
   "cell_type": "code",
   "execution_count": 30,
   "id": "7d544918",
   "metadata": {},
   "outputs": [
    {
     "name": "stdout",
     "output_type": "stream",
     "text": [
      "Ifmmp  \n",
      "\n",
      "Jgnnq  \n",
      "\n",
      "Khoor \n",
      "\n"
     ]
    }
   ],
   "source": [
    "def ceasar_encode(letter, shift):\n",
    "    result = ''\n",
    "    for letter in line:\n",
    "        if letter.isalpha():\n",
    "            number = ord(letter) + shift % 32\n",
    "            if number > 1103:\n",
    "                number -= 32\n",
    "            result += chr(number)\n",
    "        else:\n",
    "            result += letter\n",
    "    return result\n",
    "\n",
    "text = open('text.txt', encoding='utf-8').read().splitlines()\n",
    "text_ = [text for text in text if text]\n",
    "for shift, line in enumerate(text_, 1):\n",
    "    print(ceasar_encode(line, shift), '\\n')\n"
   ]
  },
  {
   "cell_type": "markdown",
   "id": "af686fc1",
   "metadata": {},
   "source": [
    "# 07 Турнир"
   ]
  },
  {
   "cell_type": "code",
   "execution_count": 41,
   "id": "922ebb45",
   "metadata": {},
   "outputs": [
    {
     "name": "stdout",
     "output_type": "stream",
     "text": [
      "[['Petrov', 'Vasiliy', '98'], ['Segeev', 'Petr', '92']]\n"
     ]
    }
   ],
   "source": [
    "new_file = open(\"first_tour.txt\", \"r\", encoding=\"utf8\")\n",
    "k = int(new_file.readline())\n",
    "new_list = []\n",
    " \n",
    "for line in new_file:\n",
    "    new_line = line.split()\n",
    "    if new_line!=[] and int(new_line[-1]) > k:\n",
    "        new_list.append(new_line)\n",
    "new_file.close()\n",
    " \n",
    "new_list.sort()\n",
    "print(new_list)\n",
    "out_lst = []\n",
    "chislo = str(len(new_list))\n",
    "n = 1\n",
    "for elem in new_list:\n",
    "    name_ = str(elem[0][0]) + '.'\n",
    "    s_win = str(n) + ')' + name_ + ' ' + elem[1] + ' ' + elem[2]\n",
    "    out_lst.append(s_win)\n",
    "    n += 1\n",
    "with open(\"second_tour.txt\", \"w\", encoding='utf-8') as out:\n",
    "    out.write(count + '\\n')\n",
    "    s = '\\n'.join(out_lst)\n",
    "    out.write(s)\n"
   ]
  },
  {
   "cell_type": "markdown",
   "id": "77816efe",
   "metadata": {},
   "source": [
    "# 08 Частотный анализ"
   ]
  },
  {
   "cell_type": "code",
   "execution_count": 3,
   "id": "7e39b305",
   "metadata": {},
   "outputs": [],
   "source": [
    "d = dict()\n",
    "count = 0\n",
    "with open(\"my_text.txt\", \"r\") as f:\n",
    "    for line in f:\n",
    "        for elem in line.lower():\n",
    "            if elem.isalpha() == True:\n",
    "                if elem not in d:\n",
    "                    d[elem] = 1\n",
    "                else:\n",
    "                    d[elem] += 1 \n",
    "                count += 1\n",
    "with open(\"analysis.txt\", \"w\") as f1:\n",
    "    for item in sorted(sorted(d.items(), key=lambda x : x[0]), key=lambda x: x[1], reverse=True):\n",
    "        f1.write(f'{item[0]} {round(item[1] / 3, 3)}\\n')\n"
   ]
  },
  {
   "cell_type": "markdown",
   "id": "6e515db6",
   "metadata": {},
   "source": [
    "# 09 Война и мир"
   ]
  },
  {
   "cell_type": "code",
   "execution_count": 8,
   "id": "c27b01ef",
   "metadata": {},
   "outputs": [],
   "source": [
    "import zipfile\n",
    "\n",
    "d = dict()\n",
    "count = 0\n",
    "path = r'C:\\Users\\\\Ксения\\\\Python\\\\Python\\\\homework_17' #Users Ксения Python Python homework_17\n",
    "archive = r'\\voyna-i-mir.zip'\n",
    "with zipfile.ZipFile(path + archive, 'r') as zip_file:\n",
    "    zip_file.extractall(path)\n",
    "    f = open(path + r'\\voyna-i-mir.txt', encoding='utf-8')\n",
    "    for line in f:\n",
    "        for elem in line:\n",
    "            if elem.isalpha() == True:\n",
    "                if elem not in d:\n",
    "                    d[elem] = 1\n",
    "                else:\n",
    "                    d[elem] += 1 \n",
    "                count += 1\n",
    "    f.close()\n",
    "with open(\"analysis_voyna.txt\", \"w\", encoding='utf-8') as f1:\n",
    "    for item in sorted(sorted(d.items(), key=lambda x : x[0]), key=lambda x: x[1], reverse=True):\n",
    "        f1.write(f'{item[0]} {round(item[1], 3)}\\n')\n"
   ]
  }
 ],
 "metadata": {
  "kernelspec": {
   "display_name": "Python 3 (ipykernel)",
   "language": "python",
   "name": "python3"
  },
  "language_info": {
   "codemirror_mode": {
    "name": "ipython",
    "version": 3
   },
   "file_extension": ".py",
   "mimetype": "text/x-python",
   "name": "python",
   "nbconvert_exporter": "python",
   "pygments_lexer": "ipython3",
   "version": "3.10.2"
  }
 },
 "nbformat": 4,
 "nbformat_minor": 5
}
