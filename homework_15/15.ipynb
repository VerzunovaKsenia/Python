{
 "cells": [
  {
   "cell_type": "markdown",
   "id": "029506ef",
   "metadata": {},
   "source": [
    "# 01"
   ]
  },
  {
   "cell_type": "code",
   "execution_count": 8,
   "id": "341382ff",
   "metadata": {},
   "outputs": [
    {
     "name": "stdout",
     "output_type": "stream",
     "text": [
      "Id студента - возраст: 1 - 23 , 2 - 24 , 3 - 22\n",
      "Интересы: biology, swimming,math,computer games,running,languages,health foo\n",
      "Общая длина фамилий: 20\n"
     ]
    }
   ],
   "source": [
    "students = {\n",
    "    1: {\n",
    "        'name': 'Bob',\n",
    "        'surname': 'Vazovski',\n",
    "        'age': 23,\n",
    "        'interests': ['biology, swimming']\n",
    "    },\n",
    "    2: {\n",
    "        'name': 'Rob',\n",
    "        'surname': 'Stepanov',\n",
    "        'age': 24,\n",
    "        'interests': ['math', 'computer games', 'running']\n",
    "    },\n",
    "    3: {\n",
    "        'name': 'Alexander',\n",
    "        'surname': 'Krug',\n",
    "        'age': 22,\n",
    "        'interests': ['languages', 'health food']\n",
    "    }\n",
    "}\n",
    "\n",
    "\n",
    "def f(dict):\n",
    "    lst = []\n",
    "    string = ''\n",
    "    for i in dict:\n",
    "        lst += (dict[i]['interests'])\n",
    "        string += dict[i]['surname']\n",
    "    cnt = 0\n",
    "    for s in string:\n",
    "        cnt += 1\n",
    "    return lst, cnt\n",
    "\n",
    "\n",
    "pairs = []\n",
    "for id in students:\n",
    "    pairs += (id, '-', students[id]['age'], ',')\n",
    "\n",
    "\n",
    "stroka = ''\n",
    "for elem in f(students)[0]:\n",
    "    stroka += str(elem) + ','\n",
    "\n",
    "my_lst = f(students)[0]\n",
    "l = f(students)[1]\n",
    "\n",
    "print('Id студента - возраст:', *pairs[:-1])\n",
    "print('Интересы:', stroka[:-2])\n",
    "print('Общая длина фамилий:', f(students)[1])"
   ]
  },
  {
   "cell_type": "markdown",
   "id": "56fa8284",
   "metadata": {},
   "source": [
    "# 02"
   ]
  },
  {
   "cell_type": "code",
   "execution_count": 3,
   "id": "e0281bd5",
   "metadata": {},
   "outputs": [
    {
     "name": "stdout",
     "output_type": "stream",
     "text": [
      "ashsfdfhd\n",
      "f\n",
      "f\n",
      "d\n"
     ]
    }
   ],
   "source": [
    "def is_prime(ch, txt):\n",
    "    k = 0\n",
    "    for j in range(2, ch):\n",
    "        if ch % j == 0:\n",
    "            k += 1\n",
    "    if k != 0:\n",
    "        print(txt[ch])\n",
    "\n",
    "\n",
    "text = input()\n",
    "for i in range(len(text)):\n",
    "    is_prime(i, text)\n"
   ]
  },
  {
   "cell_type": "markdown",
   "id": "b41dd0d5",
   "metadata": {},
   "source": [
    "# 03"
   ]
  },
  {
   "cell_type": "code",
   "execution_count": 5,
   "id": "0a331dce",
   "metadata": {},
   "outputs": [
    {
     "name": "stdout",
     "output_type": "stream",
     "text": [
      "hjdshkfksh\n",
      "s\n",
      "shkfks\n"
     ]
    }
   ],
   "source": [
    "def korteg(tuple_, element):\n",
    "    if element in tuple_:\n",
    "        if tuple_.count(element) > 1:\n",
    "            first_index = tuple_.index(element)\n",
    "            second_index = tuple_.index(element, first_index + 1)\n",
    "            return tuple_[first_index:second_index + 1]\n",
    "        else:\n",
    "            return tuple_[tuple_.index(element):]\n",
    "    else:\n",
    "        return ()\n",
    "\n",
    "\n",
    "text = input()\n",
    "elem = input()\n",
    "text_ = korteg(text, elem)\n",
    "print(text_)\n"
   ]
  },
  {
   "cell_type": "markdown",
   "id": "01c0247e",
   "metadata": {},
   "source": [
    "# 04"
   ]
  },
  {
   "cell_type": "code",
   "execution_count": 6,
   "id": "cacf08e6",
   "metadata": {},
   "outputs": [
    {
     "name": "stdout",
     "output_type": "stream",
     "text": [
      "[('Ivan', 'Volkin', 10, 5, 13), ('Bob', 'Robbin', 7, 5, 14), ('Rob', 'Bobbin', 12, 8, 2)]\n"
     ]
    }
   ],
   "source": [
    "players = {\n",
    "    (\"Ivan\", \"Volkin\"): (10, 5, 13),\n",
    "    (\"Bob\", \"Robbin\"): (7, 5, 14),\n",
    "    (\"Rob\", \"Bobbin\"): (12, 8, 2)\n",
    "}\n",
    "\n",
    "lst = []\n",
    "lst_k = list(players.keys())\n",
    "lst_v = list(players.values())\n",
    "for i in range(3):\n",
    "    lst.append(lst_k[i] + lst_v[i])\n",
    "print(lst)\n"
   ]
  },
  {
   "cell_type": "markdown",
   "id": "e875fa22",
   "metadata": {},
   "source": [
    "# 05"
   ]
  },
  {
   "cell_type": "code",
   "execution_count": 13,
   "id": "25548fff",
   "metadata": {},
   "outputs": [
    {
     "name": "stdout",
     "output_type": "stream",
     "text": [
      "Введите фамилию: Сидоров\n",
      "Сидоров Никита 35\n",
      "Сидорова Алина 34\n",
      "Сидоров Петр 40\n"
     ]
    }
   ],
   "source": [
    "names = {\n",
    "    'Сидоров Никита': 35,\n",
    "    'Сидорова Алина': 34,\n",
    "    'Иванов Иван': 15,\n",
    "    'Иванова Дарья': 16,\n",
    "    'Сидоров Петр': 40\n",
    "}\n",
    "\n",
    "surname = list(input('Введите фамилию: '))\n",
    "fename = surname + ['а']\n",
    "for key, val in names.items():\n",
    "    name = key.split()\n",
    "    if name[0] == ''.join(fename):\n",
    "        print(key, val)\n",
    "    if name[0] == ''.join(surname):\n",
    "        print(key, val)\n"
   ]
  },
  {
   "cell_type": "markdown",
   "id": "9c782e03",
   "metadata": {},
   "source": [
    "# 06"
   ]
  },
  {
   "cell_type": "code",
   "execution_count": 7,
   "id": "3c000bc3",
   "metadata": {},
   "outputs": [
    {
     "name": "stdout",
     "output_type": "stream",
     "text": [
      "[(0, 1), (2, 3), (4, 5), (6, 7), (8, 9)]\n"
     ]
    }
   ],
   "source": [
    "original = [0, 1, 2, 3, 4, 5, 6, 7, 8, 9]\n",
    "lst = []\n",
    "for i in range(0, len(original) - 1, 2):\n",
    "    lst.append(tuple([original[i], original[i + 1]]))\n",
    "print(lst)\n"
   ]
  },
  {
   "cell_type": "markdown",
   "id": "176ab3ab",
   "metadata": {},
   "source": [
    "# 07"
   ]
  },
  {
   "cell_type": "code",
   "execution_count": 8,
   "id": "a8e0d40b",
   "metadata": {},
   "outputs": [
    {
     "name": "stdout",
     "output_type": "stream",
     "text": [
      "1543\n",
      "1345\n"
     ]
    }
   ],
   "source": [
    "def sort(num):\n",
    "    arr = []\n",
    "    k = 0\n",
    "    for elem in num:\n",
    "        if elem.isnumeric():\n",
    "            k += 1\n",
    "        arr.append(elem)\n",
    "    if k == len(num):\n",
    "        return \"\".join(sorted(arr))\n",
    "    else:\n",
    "        return num\n",
    "\n",
    "\n",
    "numbers = input()\n",
    "print(sort(numbers))\n"
   ]
  },
  {
   "cell_type": "markdown",
   "id": "a022bc8d",
   "metadata": {},
   "source": [
    "# 08"
   ]
  },
  {
   "cell_type": "code",
   "execution_count": null,
   "id": "396fd357",
   "metadata": {},
   "outputs": [],
   "source": [
    "def add(ph):\n",
    "    name = input('Введите имя: ')\n",
    "    surname = input('Введите фамилию: ')\n",
    "    number = int(input('Введите номер телефона: '))\n",
    "    ph[tuple([name, surname])] = number\n",
    "    return ph\n",
    "\n",
    "def search(surnam, ph):\n",
    "    for k in ph.keys():\n",
    "        if k[1] == surnam:\n",
    "            return ph[k]\n",
    "    return 'Нет пользователя'\n",
    "\n",
    "\n",
    "phone = dict()\n",
    "while True:\n",
    "    action = input('Введите действие: ')\n",
    "    if action == 'Добавить контакт':\n",
    "        add(phone)\n",
    "        print(phone)\n",
    "    if action == 'Поиск человека по фамилии':\n",
    "        surname_s = input('Введите фамилию: ')\n",
    "        print(search(surname_s, phone))\n",
    "\n"
   ]
  },
  {
   "cell_type": "markdown",
   "id": "829dca00",
   "metadata": {},
   "source": [
    "# 09"
   ]
  },
  {
   "cell_type": "code",
   "execution_count": null,
   "id": "2e90c87a",
   "metadata": {},
   "outputs": [],
   "source": [
    "N = int(input('Сколько записей вносится в протокол? '))\n",
    "arr = []\n",
    "participants = dict()\n",
    "for i in range(N):\n",
    "    print(i + 1, 'запись: ', end='')\n",
    "    result = input().split(' ')\n",
    "    arr.append(int(result[0]))\n",
    "    participants[result[1]] = int(result[0])\n",
    "\n",
    "arr.sort(reverse=True)\n",
    "for j in range(3):\n",
    "    for k, v in participants.items():\n",
    "        if arr[j] == v:\n",
    "            print(j + 1, 'место.', end=' ')\n",
    "            print(arr[j], k)\n",
    "            participants.pop(k)\n",
    "            break\n"
   ]
  },
  {
   "cell_type": "markdown",
   "id": "2e8c5f77",
   "metadata": {},
   "source": [
    "# 10 Своя функция zip"
   ]
  },
  {
   "cell_type": "code",
   "execution_count": null,
   "id": "bf3dc274",
   "metadata": {},
   "outputs": [],
   "source": [
    "def zip_(tpl, txt):\n",
    "    for i in range(min(len(tpl)), len(txt)):\n",
    "        f_tpl = (txt[i], tpl[i])\n",
    "        yield f_tpl\n",
    "        \n",
    "s_txt = input('Введите строку: ')\n",
    "print('Введите кортеж: ')\n",
    "s_tpl = tuple([int(i) for i in input().split()])\n",
    "gen = my_zip(s_tpl, s_txt)\n",
    "print(gen)\n",
    "for i in gen:\n",
    "    print(i)\n"
   ]
  }
 ],
 "metadata": {
  "kernelspec": {
   "display_name": "Python 3 (ipykernel)",
   "language": "python",
   "name": "python3"
  },
  "language_info": {
   "codemirror_mode": {
    "name": "ipython",
    "version": 3
   },
   "file_extension": ".py",
   "mimetype": "text/x-python",
   "name": "python",
   "nbconvert_exporter": "python",
   "pygments_lexer": "ipython3",
   "version": "3.10.2"
  }
 },
 "nbformat": 4,
 "nbformat_minor": 5
}
