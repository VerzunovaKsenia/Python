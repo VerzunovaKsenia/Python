{
 "cells": [
  {
   "cell_type": "markdown",
   "id": "e7ca763c",
   "metadata": {},
   "source": [
    "# 01 Challenge "
   ]
  },
  {
   "cell_type": "code",
   "execution_count": 2,
   "id": "8ea896a1",
   "metadata": {},
   "outputs": [
    {
     "name": "stdout",
     "output_type": "stream",
     "text": [
      "Введите число: 4\n",
      "1 2 3 4 "
     ]
    }
   ],
   "source": [
    "def fun(n):\n",
    "    if n != 0:\n",
    "        fun(n-1)\n",
    "        print(n, end=' ')\n",
    "\n",
    "num = int(input('Введите число: '))\n",
    "fun(num)\n"
   ]
  },
  {
   "cell_type": "markdown",
   "id": "e1c6c613",
   "metadata": {},
   "source": [
    "# 02 Свой zip "
   ]
  },
  {
   "cell_type": "code",
   "execution_count": 1,
   "id": "f280baa0",
   "metadata": {},
   "outputs": [
    {
     "name": "stdout",
     "output_type": "stream",
     "text": [
      "[('reliance', 2175), ('infosys', 1127), (23, 2750), ('tcs', 'jgf')]\n"
     ]
    }
   ],
   "source": [
    "stocks = ['reliance', 'infosys', 23, 'tcs']\n",
    "prices = (2175, 1127, 2750, 'jgf')\n",
    "new = [*stocks, *prices]\n",
    "print([(new[i], new[len(new)//2 + i]) for i in range(len(new)//2)])\n"
   ]
  },
  {
   "cell_type": "markdown",
   "id": "eba01bfd",
   "metadata": {},
   "source": [
    "# 03 Ряд Фибоначчи"
   ]
  },
  {
   "cell_type": "code",
   "execution_count": 2,
   "id": "b358271d",
   "metadata": {},
   "outputs": [
    {
     "name": "stdout",
     "output_type": "stream",
     "text": [
      "Введите позицию числа в ряде Фибоначчи: 5\n",
      "Число: 5\n"
     ]
    }
   ],
   "source": [
    "def fibonacci(n):\n",
    "    if n == 1 or n == 2:\n",
    "        return 1\n",
    "    return fibonacci(n - 1) + fibonacci(n - 2)\n",
    "\n",
    "\n",
    "num_pos = int(input('Введите позицию числа в ряде Фибоначчи: '))\n",
    "print('Число:', fibonacci(num_pos))\n"
   ]
  },
  {
   "cell_type": "markdown",
   "id": "f24dce9a",
   "metadata": {},
   "source": [
    "# 04 Поиск элемента"
   ]
  },
  {
   "cell_type": "code",
   "execution_count": 9,
   "id": "0846b414",
   "metadata": {},
   "outputs": [
    {
     "name": "stdout",
     "output_type": "stream",
     "text": [
      "Введите ключ: div\n",
      "Введите глубину: 1\n",
      "Такого ключа в структуре сайта нет.\n"
     ]
    }
   ],
   "source": [
    "def search(d, key, h):\n",
    "    if h == -1:\n",
    "        res = []\n",
    "        for k in d.keys():\n",
    "            if k == key:\n",
    "               res = res + [d[k]]\n",
    "            if type(d[k]) is dict:\n",
    "                res = res + search(d[k], key, h=-1)\n",
    "        return res\n",
    "    else:\n",
    "        if h == 0:\n",
    "            return []\n",
    "        else:\n",
    "            res = []\n",
    "            for k in d.keys():\n",
    "                if k == key:\n",
    "                    res = res + [d[k]]\n",
    "                if type(d[k]) is dict:\n",
    "                    res = res + search(d[k], key, h-1)\n",
    "            return res\n",
    "\n",
    "\n",
    "site = {\n",
    "    'html': {\n",
    "        'head': {\n",
    "            'title': 'Мой сайт'\n",
    "        },\n",
    "        'body': {\n",
    "            'h2': 'Здесь будет мой заголовок',\n",
    "            'div': 'Тут, наверное, какой-то блок',\n",
    "            'p': 'А вот здесь новый абзац'\n",
    "        }\n",
    "    }\n",
    "}\n",
    "\n",
    "user_key = input('Введите ключ: ')\n",
    "depth = int(input('Введите глубину: '))\n",
    "result = search(site, user_key, depth)\n",
    "if result:\n",
    "    print(result)\n",
    "else:\n",
    "    print('Такого ключа в структуре сайта нет.')\n",
    "#исправить"
   ]
  },
  {
   "cell_type": "markdown",
   "id": "dddeac01",
   "metadata": {},
   "source": [
    "# 05 Ускоряем работу функции"
   ]
  },
  {
   "cell_type": "code",
   "execution_count": 2,
   "id": "381edbc0",
   "metadata": {},
   "outputs": [
    {
     "name": "stdout",
     "output_type": "stream",
     "text": [
      "Введите число: 4\n",
      "5.499366670846939e-05\n"
     ]
    }
   ],
   "source": [
    "def factorial(n):\n",
    "    if n == 1:\n",
    "        return n\n",
    "    else:\n",
    "        return n * factorial(n-1)\n",
    "\n",
    "\n",
    "def calculating_math_func(data):\n",
    "    if data in factorials:\n",
    "        result = factorials[data]\n",
    "    else:\n",
    "        result = 1\n",
    "        for index in range(1, data + 1):\n",
    "            result *= index\n",
    "        factorials[data] = result\n",
    "    result /= data ** 3\n",
    "    result = result ** 10\n",
    "    return result\n",
    "\n",
    "\n",
    "factorials = dict()\n",
    "number = int(input('Введите число: '))\n",
    "res = calculating_math_func(number)\n",
    "print(res)\n"
   ]
  },
  {
   "cell_type": "markdown",
   "id": "e6c144a8",
   "metadata": {},
   "source": [
    "# 06 Глубокое копирование"
   ]
  },
  {
   "cell_type": "code",
   "execution_count": 12,
   "id": "7c2382fc",
   "metadata": {},
   "outputs": [
    {
     "name": "stdout",
     "output_type": "stream",
     "text": [
      "Сколько сайтов: 2\n",
      "Введите название продукта для нового сайта: samsung\n",
      "Сайт для samsung:\n",
      "{'html': {'head': {'title': 'Куплю/продам samsung недорого'}, 'body': {'h2': 'У нас самая низкая цена на samsung', 'div': 'Купить', 'p': 'продать'}}} \n",
      "\n",
      "Введите название продукта для нового сайта: nokia\n",
      "Сайт для nokia:\n",
      "{'html': {'head': {'title': 'Куплю/продам nokia недорого'}, 'body': {'h2': 'У нас самая низкая цена на nokia', 'div': 'Купить', 'p': 'продать'}}} \n",
      "\n"
     ]
    }
   ],
   "source": [
    "site = {\n",
    "    'html': {\n",
    "        'head': {\n",
    "            'title': 'Куплю/продам телефон недорого'\n",
    "        },\n",
    "        'body': {\n",
    "            'h2': 'У нас самая низкая цена на iphone',\n",
    "            'div': 'Купить',\n",
    "            'p': 'продать'\n",
    "        }\n",
    "    }\n",
    "}\n",
    "\n",
    "\n",
    "def find_key(struct, key, meaning):\n",
    "    if key in struct:\n",
    "        struct[key] = meaning\n",
    "        return site\n",
    "\n",
    "    for sub_struct in struct.values():\n",
    "        if isinstance(sub_struct, dict):\n",
    "            result = find_key(sub_struct, key, meaning)\n",
    "            if result:\n",
    "                return site\n",
    "\n",
    "\n",
    "\n",
    "number_sites = int(input('Сколько сайтов: '))\n",
    "for elem in range(number_sites):\n",
    "    product_name = input('Введите название продукта для нового сайта: ')\n",
    "    key = {'title': f'Куплю/продам {product_name} недорого', 'h2': f'У нас самая низкая цена на {product_name}'}\n",
    "    for i in key:\n",
    "        find_key(site, i, key[i])\n",
    "\n",
    "    print(f'Сайт для {product_name}:')\n",
    "    print(site, '\\n')\n"
   ]
  },
  {
   "cell_type": "markdown",
   "id": "f5340521",
   "metadata": {},
   "source": [
    "# 07 Продвинутая функция sum "
   ]
  },
  {
   "cell_type": "code",
   "execution_count": 4,
   "id": "ce43c00e",
   "metadata": {},
   "outputs": [
    {
     "name": "stdout",
     "output_type": "stream",
     "text": [
      "6\n"
     ]
    }
   ],
   "source": [
    "def pr_sum(obj, arr):\n",
    "    if isinstance(obj, list):\n",
    "        for elem in obj:\n",
    "            pr_sum(elem, arr)\n",
    "    elif isinstance(obj, tuple):\n",
    "        for elem in obj:\n",
    "            pr_sum(elem, arr)\n",
    "    else:\n",
    "        arr.append(obj)\n",
    "    return sum(arr)\n",
    "    \n",
    "        \n",
    "\n",
    "lst = []\n",
    "summ = (1, ((2), 3))\n",
    "print(pr_sum(summ, lst))\n"
   ]
  },
  {
   "cell_type": "markdown",
   "id": "8c1b1ee6",
   "metadata": {},
   "source": [
    "# 08 Список списков "
   ]
  },
  {
   "cell_type": "code",
   "execution_count": 9,
   "id": "49fd2eec",
   "metadata": {},
   "outputs": [
    {
     "name": "stdout",
     "output_type": "stream",
     "text": [
      "[1, 2, 3, 4, 5, 6]\n"
     ]
    }
   ],
   "source": [
    "def spisok(elem, arr):\n",
    "    if isinstance(elem, list):\n",
    "        for i in elem:\n",
    "            spisok(i, arr)\n",
    "    else:\n",
    "        arr.append(elem)\n",
    "    return arr\n",
    "\n",
    "\n",
    "lst = []\n",
    "nice_list = [1, 2,[3,4],[[5]],6]\n",
    "print(spisok(nice_list, lst))\n"
   ]
  },
  {
   "cell_type": "markdown",
   "id": "2d944845",
   "metadata": {},
   "source": [
    "# 09 Ханойские башни "
   ]
  },
  {
   "cell_type": "code",
   "execution_count": 3,
   "id": "d45fe0b0",
   "metadata": {},
   "outputs": [
    {
     "name": "stdout",
     "output_type": "stream",
     "text": [
      "Введите количество дисков: 2\n",
      "Переложить диск 1 со стержня номер 1 на стержень номер 2\n",
      "Переложить диск 2 со стержня номер 1 на стержень номер 3\n",
      "Переложить диск 1 со стержня номер 2 на стержень номер 3\n"
     ]
    }
   ],
   "source": [
    "def move(n, x, y):\n",
    "    if n == 1:\n",
    "        print('Переложить диск', n, 'со стержня номер', x, 'на стержень номер', y)\n",
    "    else:\n",
    "        tmp = 6 - x - y\n",
    "        move(n - 1, x, tmp)\n",
    "        print('Переложить диск', n, 'со стержня номер', x, 'на стержень номер', y)\n",
    "        move(n - 1, tmp, y)\n",
    "        \n",
    "N = int(input('Введите количество дисков: '))\n",
    "move(N, 1, 3)\n"
   ]
  }
 ],
 "metadata": {
  "kernelspec": {
   "display_name": "Python 3 (ipykernel)",
   "language": "python",
   "name": "python3"
  },
  "language_info": {
   "codemirror_mode": {
    "name": "ipython",
    "version": 3
   },
   "file_extension": ".py",
   "mimetype": "text/x-python",
   "name": "python",
   "nbconvert_exporter": "python",
   "pygments_lexer": "ipython3",
   "version": "3.10.2"
  }
 },
 "nbformat": 4,
 "nbformat_minor": 5
}
